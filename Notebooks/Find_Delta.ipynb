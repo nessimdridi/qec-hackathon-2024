{
 "cells": [
  {
   "cell_type": "code",
   "execution_count": 1,
   "metadata": {},
   "outputs": [],
   "source": [
    "import bloqade\n",
    "from bloqade import rydberg_h, piecewise_linear, piecewise_constant, waveform, cast\n",
    "from bloqade.atom_arrangement import ListOfLocations, Square\n",
    "from bokeh.io import output_notebook # to plot \"show()\" on the notebook, without opening a browser\n",
    "import os\n",
    "import matplotlib.pyplot as plt\n",
    "import numpy as np"
   ]
  },
  {
   "cell_type": "code",
   "execution_count": 35,
   "metadata": {},
   "outputs": [
    {
     "name": "stdout",
     "output_type": "stream",
     "text": [
      "7.373827955090233 in MHz\n"
     ]
    }
   ],
   "source": [
    "C6 = 2*np.pi*862690\n",
    "#Setting lattice constant in um\n",
    "a = 5\n",
    "R_b = 1.9*a\n",
    "#Delta that yields the desired Rydberg radius\n",
    "Delta_fin = C6/(R_b)**6\n",
    "print(str(Delta_fin) + \" in MHz\")\n",
    "Delta_0 = -Delta_fin\n"
   ]
  },
  {
   "cell_type": "markdown",
   "metadata": {},
   "source": [
    "C6 = 2*np.pi*862690\n",
    "#Setting lattice constant in um\n",
    "a = 5\n",
    "#Choosing the number fo nodes included in rydberg circle\n",
    "x = 1\n",
    "y = 1\n",
    "epsilon = 0.1\n",
    "R_b = a*(np.sqrt(x**2 +y **2)) + epsilon\n",
    "#Delta that yields the desired Rydberg radius\n",
    "Delta_fin = C6/(R_b)**6\n",
    "print(str(Delta_fin) + \" in MHz\")\n",
    "Delta_0 = -Delta_fin"
   ]
  },
  {
   "cell_type": "code",
   "execution_count": 32,
   "metadata": {},
   "outputs": [],
   "source": [
    "rng = np.random.default_rng(1234)\n",
    "atom_pos=Square(4, lattice_spacing=a).apply_defect_density(0.1, rng=rng).remove_vacant_sites()\n",
    "\n",
    "atom_pos.show()"
   ]
  },
  {
   "cell_type": "code",
   "execution_count": 36,
   "metadata": {},
   "outputs": [],
   "source": [
    "pulse_duration = 4\n",
    "durations = [0.15,1.5,0.15]\n",
    "delta_MHz=[Delta_0, Delta_0,Delta_fin, Delta_fin]\n",
    "omega_MHz= [0.0,2.5,2.5,0.0]\n",
    "Delta = piecewise_linear(durations,[x*2*np.pi for x in delta_MHz])\n",
    "Omega = piecewise_linear(durations,[x*2*np.pi for x in omega_MHz])\n",
    "\n",
    "Delta.show()\n",
    "Omega.show()"
   ]
  },
  {
   "cell_type": "code",
   "execution_count": 37,
   "metadata": {},
   "outputs": [],
   "source": [
    "program = rydberg_h(atom_pos, detuning= Delta, amplitude=Omega, phase=None)\n",
    "output = program.bloqade.python().run(shots=20, interaction_picture=True)\n",
    "output.report().show()"
   ]
  },
  {
   "cell_type": "code",
   "execution_count": null,
   "metadata": {},
   "outputs": [],
   "source": []
  }
 ],
 "metadata": {
  "kernelspec": {
   "display_name": "hacathon",
   "language": "python",
   "name": "python3"
  },
  "language_info": {
   "codemirror_mode": {
    "name": "ipython",
    "version": 3
   },
   "file_extension": ".py",
   "mimetype": "text/x-python",
   "name": "python",
   "nbconvert_exporter": "python",
   "pygments_lexer": "ipython3",
   "version": "3.12.3"
  }
 },
 "nbformat": 4,
 "nbformat_minor": 2
}
